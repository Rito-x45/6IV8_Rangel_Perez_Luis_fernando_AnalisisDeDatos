{
 "cells": [
  {
   "cell_type": "markdown",
   "id": "69901415-871c-4128-94ba-7cb605818be1",
   "metadata": {},
   "source": [
    "# 4.- Funciones"
   ]
  },
  {
   "cell_type": "markdown",
   "id": "82a4386e-b878-475e-b82d-03dbcb9d44d3",
   "metadata": {},
   "source": [
    "## 4.2.- Función def"
   ]
  },
  {
   "cell_type": "markdown",
   "id": "8e864b12-a5a9-4cde-b565-a59929d9d7eb",
   "metadata": {},
   "source": [
    "Vamos a comenzar creando una funcion que tome un número y devuelva su raiz cuadrada"
   ]
  },
  {
   "cell_type": "code",
   "execution_count": 1,
   "id": "c555a87f-f94f-4dfb-ac88-4bd40e1f2c96",
   "metadata": {},
   "outputs": [],
   "source": [
    "def raiz_cuad(número):\n",
    " #\"\"\"Calcula la raíz cuadrada de un número.\"\"\"\n",
    " return número**(1/2)\n",
    "\n"
   ]
  },
  {
   "cell_type": "code",
   "execution_count": 2,
   "id": "315753b7-f2b8-46d8-a61c-499e912f468a",
   "metadata": {},
   "outputs": [
    {
     "data": {
      "text/plain": [
       "7.0"
      ]
     },
     "execution_count": 2,
     "metadata": {},
     "output_type": "execute_result"
    }
   ],
   "source": [
    "raiz_cuad(49)"
   ]
  },
  {
   "cell_type": "markdown",
   "id": "a034c45f-dd3c-4e3b-b4b5-4c266b7eb003",
   "metadata": {},
   "source": [
    "Las funciones también las podemos llamar desde otras expresiones como print"
   ]
  },
  {
   "cell_type": "code",
   "execution_count": 3,
   "id": "24499624-16fa-4b44-b50d-a0a77dd65543",
   "metadata": {},
   "outputs": [
    {
     "name": "stdout",
     "output_type": "stream",
     "text": [
      "5.0\n"
     ]
    }
   ],
   "source": [
    "print(raiz_cuad(25))"
   ]
  },
  {
   "cell_type": "markdown",
   "id": "5fa7a304-a3ac-49f8-a9c7-985ff3cd4738",
   "metadata": {},
   "source": [
    "Muchas funciones podemos ? para saber como se usa la función"
   ]
  },
  {
   "cell_type": "code",
   "execution_count": 4,
   "id": "48187ac5-0ca4-4412-9b2c-8dc240a0a891",
   "metadata": {},
   "outputs": [
    {
     "name": "stdout",
     "output_type": "stream",
     "text": [
      "\u001b[1;31mSignature:\u001b[0m \u001b[0mraiz_cuad\u001b[0m\u001b[1;33m(\u001b[0m\u001b[0mnúmero\u001b[0m\u001b[1;33m)\u001b[0m\u001b[1;33m\u001b[0m\u001b[1;33m\u001b[0m\u001b[0m\n",
      "\u001b[1;31mDocstring:\u001b[0m <no docstring>\n",
      "\u001b[1;31mFile:\u001b[0m      c:\\users\\alumno\\appdata\\local\\temp\\ipykernel_7280\\346759380.py\n",
      "\u001b[1;31mType:\u001b[0m      function"
     ]
    }
   ],
   "source": [
    "raiz_cuad?"
   ]
  },
  {
   "cell_type": "markdown",
   "id": "55e03a1c-54ea-4685-b6e0-1880a7073360",
   "metadata": {},
   "source": [
    "#### Por tu cuenta\n",
    "\n",
    "Define una función que calcule la raiz cubica de un numero dado"
   ]
  },
  {
   "cell_type": "code",
   "execution_count": 47,
   "id": "3e9e8b00-c189-400d-b1ba-467fe444b379",
   "metadata": {},
   "outputs": [],
   "source": [
    "num = int(input(\"De que numero quieres tu raiz: \"))\n",
    "\n",
    "def raiz_cub(num):\n",
    "    #saca la raiz cubica de un numero\n",
    "    return num**(1/3)"
   ]
  },
  {
   "cell_type": "code",
   "execution_count": 6,
   "id": "3b7ece1c-8e0a-4ea0-8166-64dd75e4661a",
   "metadata": {},
   "outputs": [
    {
     "name": "stdout",
     "output_type": "stream",
     "text": [
      "3.0\n"
     ]
    }
   ],
   "source": [
    "print(raiz_cuad(num))"
   ]
  },
  {
   "cell_type": "markdown",
   "id": "dc1856d4-be0c-4cc6-b217-10fb4bab5fe6",
   "metadata": {},
   "source": [
    "## 4.3.- Funciones con Múltiples Parámetros"
   ]
  },
  {
   "cell_type": "markdown",
   "id": "1f12cc0d-bd8e-45a9-b1b8-f976783ccf4f",
   "metadata": {},
   "source": [
    "Ahora armaremos una función usando IF que nos dice cual es la raiz cuadrada más grande de 3 números"
   ]
  },
  {
   "cell_type": "code",
   "execution_count": 26,
   "id": "8f4f0077-7108-42ce-942e-e12ee8744582",
   "metadata": {},
   "outputs": [
    {
     "data": {
      "text/plain": [
       "5.0"
      ]
     },
     "execution_count": 26,
     "metadata": {},
     "output_type": "execute_result"
    }
   ],
   "source": [
    "def maxRaiz(num1,num2,num3):\n",
    "    #devolvera la raiz mas grande de 3 numeros\n",
    "    r_n1 = num1**(1/2)\n",
    "    r_n2 = num2**(1/2)\n",
    "    r_n3 = num3**(1/2)\n",
    "    r_big = r_n1\n",
    "    \n",
    "    if r_n2 > r_big:\n",
    "        r_big = r_n2\n",
    "        if r_n3 > r_big:\n",
    "            r_big = r_n3\n",
    "        \n",
    "    return r_big\n",
    "maxRaiz(4,9,25)\n"
   ]
  },
  {
   "cell_type": "markdown",
   "id": "21bdb948-fa7a-4c21-9acb-6ae8266aa3e6",
   "metadata": {},
   "source": [
    "Por si las dudas, esto se podría haber simplificado usando Max y Min"
   ]
  },
  {
   "cell_type": "code",
   "execution_count": 27,
   "id": "8a495cc4-00c7-4cfb-9d0c-c35dea9683ae",
   "metadata": {},
   "outputs": [
    {
     "data": {
      "text/plain": [
       "(5.0, 2.0)"
      ]
     },
     "execution_count": 27,
     "metadata": {},
     "output_type": "execute_result"
    }
   ],
   "source": [
    "def maxRaiz(num1,num2,num3):\n",
    "    #devolvera la raiz mas grande de 3 numeros    \n",
    "    r_n1 = num1**(1/2)\n",
    "    r_n2 = num2**(1/2)\n",
    "    r_n3 = num3**(1/2)\n",
    "    \n",
    "    Max = max(r_n1,r_n2, r_n3)\n",
    "    Min = min(r_n1,r_n2, r_n3)\n",
    "    \n",
    "    return Max, Min\n",
    "maxRaiz(4,9,25)"
   ]
  },
  {
   "cell_type": "markdown",
   "id": "83d18c4c-e99c-4f4c-a0dc-41b41f50c6ed",
   "metadata": {},
   "source": [
    "#### Por tu cuenta\n",
    "\n",
    "Llama la función max con la lista 15,82,13,55 como argumento, yluego la min con la palabara amarillo como argumento"
   ]
  },
  {
   "cell_type": "code",
   "execution_count": 34,
   "id": "4244c316",
   "metadata": {},
   "outputs": [
    {
     "name": "stdout",
     "output_type": "stream",
     "text": [
      "82 \n",
      " a\n"
     ]
    }
   ],
   "source": [
    "\n",
    "Max = max(15,82,13,55)\n",
    "\n",
    "Min = min(\"amarillo\")\n",
    "\n",
    "print(Max , \"\\n\", Min)\n"
   ]
  },
  {
   "cell_type": "markdown",
   "id": "2d356f80-2d18-4849-a3dd-4253cb4edcd6",
   "metadata": {},
   "source": [
    "## 4.4.- Números aleatorios"
   ]
  },
  {
   "cell_type": "markdown",
   "id": "c7ad0802-525b-4399-8fc7-454593d86ae9",
   "metadata": {},
   "source": [
    "Vamos a simular el lanzamiento de una moneda (cara o cruz), usemos la biblioteca random y simulemos 10 tiros"
   ]
  },
  {
   "cell_type": "code",
   "execution_count": 70,
   "id": "3a8bd37e-3b1a-499b-88c3-c3063b1c2f72",
   "metadata": {},
   "outputs": [
    {
     "name": "stdout",
     "output_type": "stream",
     "text": [
      "0 0 1 1 1 0 0 1 1 1 "
     ]
    }
   ],
   "source": [
    "import random\n",
    "for tirada in range(10):\n",
    "    print(random.randrange(0,2),end=' ')"
   ]
  },
  {
   "cell_type": "markdown",
   "id": "05cefe11-289a-44e2-a987-b443cce37ce3",
   "metadata": {},
   "source": [
    "Ejecutalo de nuevo, checa como ahora tenemos diferentes resultados"
   ]
  },
  {
   "cell_type": "code",
   "execution_count": 71,
   "id": "71740d03",
   "metadata": {},
   "outputs": [
    {
     "name": "stdout",
     "output_type": "stream",
     "text": [
      "0 1 0 1 1 1 1 1 0 0 "
     ]
    }
   ],
   "source": [
    "import random\n",
    "for tirada in range(10):\n",
    "    print(random.randrange(0,2),end=' ')"
   ]
  },
  {
   "cell_type": "markdown",
   "id": "4e02ace3-df9d-41aa-87bd-6fd2daa2d0a4",
   "metadata": {},
   "source": [
    "Ahora vamos a escribir un código que simule el lanzamiento de una moneda 100,000 veces. No vamos a mostrar 100,000 resultados, solo una pequeña tabla con todas las caras y todas la cruces"
   ]
  },
  {
   "cell_type": "code",
   "execution_count": 72,
   "id": "70ee75bc-9a07-4c56-af3b-38cc3efcd256",
   "metadata": {},
   "outputs": [
    {
     "name": "stdout",
     "output_type": "stream",
     "text": [
      "1=Cara,0=Águila   Frecuencia\n",
      "             1        49898\n",
      "             0        50102\n"
     ]
    }
   ],
   "source": [
    "import random\n",
    "Cara=0\n",
    "Cruz=0\n",
    "for tirada in range(100_000):\n",
    "    resultado = random.randrange(0,2)\n",
    "    if resultado == 1:\n",
    "        Cara += 1\n",
    "    else:\n",
    "        Cruz += 1\n",
    "\n",
    "print(f'1=Cara,0=Águila{\"Frecuencia\":>13}')\n",
    "print(f'{1:>14}{Cara:>13}')\n",
    "print(f'{0:>14}{Cruz:>13}')\n"
   ]
  },
  {
   "cell_type": "markdown",
   "id": "5ac8c289-07af-4305-a7b0-a47f551d142a",
   "metadata": {},
   "source": [
    "Si queremos obligar a que random sieeeempre nos de los mismos resultados, podemos usar seed. Arma una semilla de 25 y ejecuta el código 2 veces, checa como se repita (seed necesita repetirse 2 veces tmb)"
   ]
  },
  {
   "cell_type": "code",
   "execution_count": 73,
   "id": "06562bd7-2288-4e71-b817-55aeae5017b4",
   "metadata": {},
   "outputs": [
    {
     "name": "stdout",
     "output_type": "stream",
     "text": [
      "1=Cara,0=Águila   Frecuencia\n",
      "             1        49928\n",
      "             0        50072\n"
     ]
    }
   ],
   "source": [
    "import random\n",
    "Cara=0\n",
    "Cruz=0\n",
    "\n",
    "random.seed(25)\n",
    "for tirada in range(100_000):\n",
    "    resultado = random.randrange(0,2)\n",
    "    if resultado == 1:\n",
    "        Cara += 1\n",
    "    else:\n",
    "        Cruz += 1\n",
    "\n",
    "print(f'1=Cara,0=Águila{\"Frecuencia\":>13}')\n",
    "print(f'{1:>14}{Cara:>13}')\n",
    "print(f'{0:>14}{Cruz:>13}')"
   ]
  },
  {
   "cell_type": "markdown",
   "id": "ae4f4e14-ebd5-45f8-a8e4-9b31641a0af1",
   "metadata": {},
   "source": [
    "Es momento de jugar a \"El Gran 8\". \n",
    "\n",
    "Lo primero será lanzar un par de dados - arma una función que simule 2 dados y devuelva los valores que cayeron"
   ]
  },
  {
   "cell_type": "code",
   "execution_count": 75,
   "id": "07d2eda1-61af-4814-89da-822a1cb05e01",
   "metadata": {},
   "outputs": [],
   "source": [
    "import random\n",
    "\n",
    "def lanzar_dados():\n",
    "    dado1 = random.randrange(1, 7)\n",
    "    dado2 = random.randrange(1, 7)\n",
    "    return dado1, dado2"
   ]
  },
  {
   "cell_type": "markdown",
   "id": "6c524cee-4fb0-496d-b33b-343a1b9d6d62",
   "metadata": {},
   "source": [
    "Ahora arma una función que muestre la suma de los resultados de los 2 dados"
   ]
  },
  {
   "cell_type": "code",
   "execution_count": 76,
   "id": "f64c316a-f793-41ed-a4c0-68d014fbe816",
   "metadata": {},
   "outputs": [],
   "source": [
    "def mostrar_dados(dado):\n",
    "    dado1, dado2 = dado\n",
    "    print(f'Resultado de la jugada {dado1} + {dado2} = {sum(dado)}')\n"
   ]
  },
  {
   "cell_type": "markdown",
   "id": "c5eb4532-dce4-4397-b753-223bb5030a8f",
   "metadata": {},
   "source": [
    "Ahora necesitamos una variable que almacene el resutlado de lanzar los dados (funcion 1) y otra que sume los resultados de la función 1."
   ]
  },
  {
   "cell_type": "code",
   "execution_count": 77,
   "id": "9f51af4c-2def-494b-b7a2-9201414a4019",
   "metadata": {},
   "outputs": [
    {
     "name": "stdout",
     "output_type": "stream",
     "text": [
      "Resultado de la jugada 6 + 1 = 7\n"
     ]
    }
   ],
   "source": [
    "valores_logrados = lanzar_dados()  # Lanza los dados y guarda el resultado\n",
    "mostrar_dados(valores_logrados)    # Muestra el resultado de la jugada\n",
    "\n",
    "suma_dados = sum(valores_logrados)  # Suma los valores de los dados"
   ]
  },
  {
   "cell_type": "markdown",
   "id": "21576096-58ea-4bd7-9e1b-bbe197aa08f2",
   "metadata": {},
   "source": [
    "Ahora, vamos  a simular las consecuencias del primer tiro - si la suma es 8, ganaste, si es 7, perdiste, y si no, continuamos"
   ]
  },
  {
   "cell_type": "code",
   "execution_count": 78,
   "id": "b35649ce-62bb-48fe-904a-089dccb42867",
   "metadata": {},
   "outputs": [],
   "source": [
    "if suma_dados == 8:\n",
    "    status_jugador = 'Ganaste'\n",
    "elif suma_dados == 7:\n",
    "    status_jugador = 'Perdiste'\n",
    "else:\n",
    "    status_jugador = 'Continuar'\n",
    "    print('Sigue probando, encuentra al Gran 8')\n"
   ]
  },
  {
   "cell_type": "markdown",
   "id": "34507a56-d650-4156-b1f2-d485a9b3634e",
   "metadata": {},
   "source": [
    "Y ahora con un bucle vamos a seguir el juego, se relanzan los dados y si se hace un bucle while que mientras que no haya un resultado de 6,8, o 7, se sigue tirando, si no se define si se ganó o se perdió"
   ]
  },
  {
   "cell_type": "code",
   "execution_count": 80,
   "id": "0142cde5-6158-4c73-bbf4-e2d48efcd532",
   "metadata": {},
   "outputs": [
    {
     "name": "stdout",
     "output_type": "stream",
     "text": [
      "Ganaste\n"
     ]
    }
   ],
   "source": [
    "while status_jugador == 'Continuar':\n",
    "    valores_logrados = lanzar_dados()   # Lanza los dados nuevamente\n",
    "    mostrar_dados(valores_logrados)     # Muestra el resultado del lanzamiento\n",
    "    suma_dados = sum(valores_logrados)  # Suma los valores de los dados\n",
    "\n",
    "    if suma_dados in (6, 8):  # Si la suma es 6 o 8, el jugador gana\n",
    "        status_jugador = 'Ganaste'\n",
    "    elif suma_dados == 7:     # Si la suma es 7, el jugador pierde\n",
    "        status_jugador = 'Perdiste'\n",
    "        \n",
    "if status_jugador == 'Ganaste':\n",
    "    print('Ganaste')\n",
    "else:\n",
    "    print('Perdiste')"
   ]
  },
  {
   "cell_type": "markdown",
   "id": "e330a41d-998a-4dd8-a8b9-51d255f0464d",
   "metadata": {},
   "source": [
    "Ahora unifica todo el código"
   ]
  },
  {
   "cell_type": "code",
   "execution_count": 81,
   "id": "f621a3c4",
   "metadata": {},
   "outputs": [
    {
     "name": "stdout",
     "output_type": "stream",
     "text": [
      "Resultado de la jugada 3 + 6 = 9\n",
      "Sigue probando, encuentra al Gran 8\n",
      "Resultado de la jugada 6 + 4 = 10\n",
      "Resultado de la jugada 3 + 1 = 4\n",
      "Resultado de la jugada 4 + 3 = 7\n",
      "Perdiste\n"
     ]
    }
   ],
   "source": [
    "import random\n",
    "\n",
    "# Función para lanzar dos dados\n",
    "def lanzar_dados():\n",
    "    dado1 = random.randrange(1, 7)\n",
    "    dado2 = random.randrange(1, 7)\n",
    "    return dado1, dado2\n",
    "\n",
    "# Función para mostrar la suma de los dados\n",
    "def mostrar_dados(dado):\n",
    "    dado1, dado2 = dado\n",
    "    print(f'Resultado de la jugada {dado1} + {dado2} = {sum(dado)}')\n",
    "\n",
    "# Lanza los dados y muestra el resultado\n",
    "valores_logrados = lanzar_dados()\n",
    "mostrar_dados(valores_logrados)\n",
    "\n",
    "# Suma los valores de los dados\n",
    "suma_dados = sum(valores_logrados)\n",
    "\n",
    "# Determina las consecuencias del primer tiro\n",
    "if suma_dados == 8:\n",
    "    status_jugador = 'Ganaste'\n",
    "elif suma_dados == 7:\n",
    "    status_jugador = 'Perdiste'\n",
    "else:\n",
    "    status_jugador = 'Continuar'\n",
    "    print('Sigue probando, encuentra al Gran 8')\n",
    "\n",
    "# Bucle para continuar el juego\n",
    "while status_jugador == 'Continuar':\n",
    "    valores_logrados = lanzar_dados()   # Lanza los dados nuevamente\n",
    "    mostrar_dados(valores_logrados)     # Muestra el resultado del lanzamiento\n",
    "    suma_dados = sum(valores_logrados)  # Suma los valores de los dados\n",
    "\n",
    "    if suma_dados in (6, 8):  # Si la suma es 6 o 8, el jugador gana\n",
    "        status_jugador = 'Ganaste'\n",
    "    elif suma_dados == 7:     # Si la suma es 7, el jugador pierde\n",
    "        status_jugador = 'Perdiste'\n",
    "\n",
    "# Muestra el resultado final\n",
    "if status_jugador == 'Ganaste':\n",
    "    print('Ganaste')\n",
    "else:\n",
    "    print('Perdiste')\n"
   ]
  },
  {
   "cell_type": "markdown",
   "id": "6c9e079c-3683-4901-a856-0bc24d2ea3b5",
   "metadata": {},
   "source": [
    "#### Por tu cuenta\n",
    "\n",
    "Usa un bucle for, randrange y una expresión condicional para simular 20 tiros de moneda, mosrando A para águila y S para Sello"
   ]
  },
  {
   "cell_type": "code",
   "execution_count": 90,
   "id": "24ea22a4-3fea-416b-af85-6a026c4ca9e7",
   "metadata": {},
   "outputs": [
    {
     "name": "stdout",
     "output_type": "stream",
     "text": [
      "aguila = a | sol = s    Frecuencia\n",
      "             a           11\n",
      "             s            9\n"
     ]
    }
   ],
   "source": [
    "import random\n",
    "\n",
    "aguila = 0\n",
    "sol = 0\n",
    "\n",
    "for i in range(20):\n",
    "    resultado = random.randrange(0,2)\n",
    "    if resultado == 1:\n",
    "        aguila += 1\n",
    "    else:\n",
    "        sol += 1\n",
    "\n",
    "print(f'aguila = a | sol = s {\"Frecuencia\":>13}')\n",
    "print(f'{\"a\":>14}{aguila:>13}')\n",
    "print(f'{\"s\":>14}{sol:>13}')"
   ]
  },
  {
   "cell_type": "markdown",
   "id": "902a0cb5-4b49-40f2-b285-afd87b760f18",
   "metadata": {},
   "source": [
    "## 4.5.- Funciones sin parámetros y múltiples parámetros"
   ]
  },
  {
   "cell_type": "markdown",
   "id": "71dd025d-bf4b-4c68-99b5-0cb72614740e",
   "metadata": {},
   "source": [
    "def raizcuadra(numero):\n",
    "    \"\"\"Esta función saca la raiz cuadra de un número\"\"\"\n",
    "    return numero ** (1/2)Se acuerdan de la primer funcion que hicimos? Que pasa si la corremos sin parametro?"
   ]
  },
  {
   "cell_type": "code",
   "execution_count": 91,
   "id": "e381d145-b1cb-46c5-99b9-9f83e90964bd",
   "metadata": {},
   "outputs": [
    {
     "ename": "TypeError",
     "evalue": "raiz_cuad() missing 1 required positional argument: 'número'",
     "output_type": "error",
     "traceback": [
      "\u001b[1;31m---------------------------------------------------------------------------\u001b[0m",
      "\u001b[1;31mTypeError\u001b[0m                                 Traceback (most recent call last)",
      "Cell \u001b[1;32mIn[91], line 1\u001b[0m\n\u001b[1;32m----> 1\u001b[0m \u001b[43mraiz_cuad\u001b[49m\u001b[43m(\u001b[49m\u001b[43m)\u001b[49m\n",
      "\u001b[1;31mTypeError\u001b[0m: raiz_cuad() missing 1 required positional argument: 'número'"
     ]
    }
   ],
   "source": [
    "raiz_cuad()"
   ]
  },
  {
   "cell_type": "code",
   "execution_count": 92,
   "id": "4b642fdf-9360-4196-9a89-c717e6bf1bda",
   "metadata": {},
   "outputs": [
    {
     "data": {
      "text/plain": [
       "1.0"
      ]
     },
     "execution_count": 92,
     "metadata": {},
     "output_type": "execute_result"
    }
   ],
   "source": [
    "def raiz_cuad(número=1):\n",
    " \"\"\"Calcula la raíz cuadrada de un número.\"\"\"\n",
    " return número**(1/2)\n",
    "\n",
    "raiz_cuad()"
   ]
  },
  {
   "cell_type": "code",
   "execution_count": 93,
   "id": "715f6b5c",
   "metadata": {},
   "outputs": [
    {
     "data": {
      "text/plain": [
       "5.196152422706632"
      ]
     },
     "execution_count": 93,
     "metadata": {},
     "output_type": "execute_result"
    }
   ],
   "source": [
    "raiz_cuad(27)"
   ]
  },
  {
   "cell_type": "markdown",
   "id": "010114c1-509a-4cc1-a388-ca28850d9932",
   "metadata": {},
   "source": [
    "Asigna un parametro estandar para evitar este error"
   ]
  },
  {
   "cell_type": "markdown",
   "id": "6c3d4102-a3b3-40de-a916-1df8e54b4a29",
   "metadata": {},
   "source": [
    "También, hay funciones que pueden aceptar una cantidad indefinida de parametros - arma una función llamada promedio_calif que te diga el promedio de una cantidad arbitraria de calificaciones"
   ]
  },
  {
   "cell_type": "code",
   "execution_count": 1,
   "id": "a3fc7b58-87e9-441e-9772-14f961c0f1b4",
   "metadata": {},
   "outputs": [
    {
     "data": {
      "text/plain": [
       "8.6"
      ]
     },
     "execution_count": 1,
     "metadata": {},
     "output_type": "execute_result"
    }
   ],
   "source": [
    "def promedio_calif(*calif):\n",
    "    return sum(calif)/len(calif)\n",
    "\n",
    "promedio_calif(9,8,8,9.5,9.7,10,6)"
   ]
  },
  {
   "cell_type": "code",
   "execution_count": 2,
   "id": "27b2e996-20e0-4093-99f6-dbf330689d39",
   "metadata": {},
   "outputs": [
    {
     "data": {
      "text/plain": [
       "7.466666666666666"
      ]
     },
     "execution_count": 2,
     "metadata": {},
     "output_type": "execute_result"
    }
   ],
   "source": [
    "promedio_calif(7,7.3,8.1)"
   ]
  },
  {
   "cell_type": "markdown",
   "id": "e3f6b2e9-4ed4-4c34-81b1-e60ca1b59bff",
   "metadata": {},
   "source": [
    "#### Por tu cuenta\n",
    "\n",
    "Arma una función que reciba una cantidad arbitraria de argumentos y calcule el producto de multiplicarlos todos entre ellos"
   ]
  },
  {
   "cell_type": "code",
   "execution_count": 5,
   "id": "1e1d13b9-3cb1-43e5-9cf9-b6da52643a78",
   "metadata": {},
   "outputs": [
    {
     "name": "stdout",
     "output_type": "stream",
     "text": [
      "24\n"
     ]
    }
   ],
   "source": [
    "def producto(*args):\n",
    "    resultado = 1\n",
    "    for num in args:\n",
    "        resultado *= num\n",
    "    return resultado\n",
    "\n",
    "\n",
    "print(producto(2, 3, 4))"
   ]
  },
  {
   "cell_type": "code",
   "execution_count": 7,
   "id": "0be5568a-6d23-4fcb-bbde-8c8fd120828d",
   "metadata": {},
   "outputs": [
    {
     "name": "stdout",
     "output_type": "stream",
     "text": [
      "50\n",
      "7\n",
      "1\n"
     ]
    }
   ],
   "source": [
    "print(producto(5, 10))    \n",
    "print(producto(7))        \n",
    "print(producto())  "
   ]
  },
  {
   "cell_type": "markdown",
   "id": "6892461b-49af-466b-b947-2e649586b5d5",
   "metadata": {},
   "source": [
    "## 4.6.- Alcance Local y Global"
   ]
  },
  {
   "cell_type": "markdown",
   "id": "1c759b58-4b0f-4e11-9a61-af3ee94a26e6",
   "metadata": {},
   "source": [
    "Recordemos nuestra función de raiz cuadrada"
   ]
  },
  {
   "cell_type": "code",
   "execution_count": 19,
   "id": "390db399-8b11-49e4-9d96-09597a3ed6c4",
   "metadata": {},
   "outputs": [],
   "source": [
    "def raiz_cuad(número = 1):\n",
    "    \"\"\"Calcula la raíz cuadrada de un número.\"\"\"\n",
    "    return número ** (1/2)\n"
   ]
  },
  {
   "cell_type": "code",
   "execution_count": 20,
   "id": "d8fc0616-47e6-49d1-a9d3-b3509686734c",
   "metadata": {},
   "outputs": [
    {
     "data": {
      "text/plain": [
       "8.0"
      ]
     },
     "execution_count": 20,
     "metadata": {},
     "output_type": "execute_result"
    }
   ],
   "source": [
    "raiz_cuad(64)"
   ]
  },
  {
   "cell_type": "code",
   "execution_count": 17,
   "id": "3b536999-dbf9-4b0d-ba9e-ed349124837a",
   "metadata": {},
   "outputs": [],
   "source": [
    "aprox_pi = 3.141"
   ]
  },
  {
   "cell_type": "code",
   "execution_count": 18,
   "id": "9583cbc4-7839-4a44-b549-582437f1e17f",
   "metadata": {},
   "outputs": [],
   "source": [
    "def acceso_global_pi():\n",
    "    print('aprox_pi es llamada de acceso_global_pi como:',aprox_pi)\n"
   ]
  },
  {
   "cell_type": "code",
   "execution_count": 21,
   "id": "f4dcf9c9-8e0f-41c3-9fe9-ba08e16b6666",
   "metadata": {},
   "outputs": [
    {
     "name": "stdout",
     "output_type": "stream",
     "text": [
      "aprox_pi es llamada de acceso_global_pi como: 3.141\n"
     ]
    }
   ],
   "source": [
    "acceso_global_pi()"
   ]
  },
  {
   "cell_type": "markdown",
   "id": "92d9d3b6-d1ae-480d-9026-b605aa24245f",
   "metadata": {},
   "source": [
    "Define la variable aprox pi =3.141 y luego define una función que llame a esta variable de acceso global"
   ]
  },
  {
   "cell_type": "code",
   "execution_count": 22,
   "id": "f7ccc8fd",
   "metadata": {},
   "outputs": [],
   "source": [
    "def intento_modificar_global_pi():\n",
    "    aprox_pi=3.1416\n",
    "    print('Modificación de aprox_pi como:',aprox_pi)"
   ]
  },
  {
   "cell_type": "code",
   "execution_count": 23,
   "id": "37a5f253",
   "metadata": {},
   "outputs": [
    {
     "name": "stdout",
     "output_type": "stream",
     "text": [
      "Modificación de aprox_pi como: 3.1416\n"
     ]
    }
   ],
   "source": [
    "intento_modificar_global_pi()"
   ]
  },
  {
   "cell_type": "markdown",
   "id": "90a3042c-1f46-4ef1-9f19-9cae0aeae31f",
   "metadata": {},
   "source": [
    "Intenta modificar aprox pi desde una función - verás que python no lo hace, solo modifica una copia"
   ]
  },
  {
   "cell_type": "code",
   "execution_count": 24,
   "id": "9c64c17b",
   "metadata": {},
   "outputs": [
    {
     "data": {
      "text/plain": [
       "3.141"
      ]
     },
     "execution_count": 24,
     "metadata": {},
     "output_type": "execute_result"
    }
   ],
   "source": [
    "aprox_pi\n"
   ]
  },
  {
   "cell_type": "markdown",
   "id": "5e3fc9f1-f1c8-419e-a7ad-ad015daa9ada",
   "metadata": {},
   "source": [
    "## 4.7.- El módulo de matemáticas de Python"
   ]
  },
  {
   "cell_type": "markdown",
   "id": "66a15356-6461-4202-a7d0-56526d3c1536",
   "metadata": {},
   "source": [
    "Calcula el log10 de 1000"
   ]
  },
  {
   "cell_type": "code",
   "execution_count": 25,
   "id": "d04ec048-5865-4040-a3f2-3b3cbcb1d40a",
   "metadata": {},
   "outputs": [
    {
     "ename": "NameError",
     "evalue": "name 'log10' is not defined",
     "output_type": "error",
     "traceback": [
      "\u001b[1;31m---------------------------------------------------------------------------\u001b[0m",
      "\u001b[1;31mNameError\u001b[0m                                 Traceback (most recent call last)",
      "Cell \u001b[1;32mIn[25], line 1\u001b[0m\n\u001b[1;32m----> 1\u001b[0m log10(\u001b[38;5;241m1000\u001b[39m)\n",
      "\u001b[1;31mNameError\u001b[0m: name 'log10' is not defined"
     ]
    }
   ],
   "source": [
    "log10(1000)\n"
   ]
  },
  {
   "cell_type": "markdown",
   "id": "2db1131d-227b-46fe-aa43-ea83fd7ff1bc",
   "metadata": {},
   "source": [
    "Importa la librería math"
   ]
  },
  {
   "cell_type": "code",
   "execution_count": 26,
   "id": "4252d1a8-4e52-43d1-a5a4-045def644677",
   "metadata": {},
   "outputs": [],
   "source": [
    "import math"
   ]
  },
  {
   "cell_type": "markdown",
   "id": "4cebaf0a-a127-4a90-971a-a306d39ebc10",
   "metadata": {},
   "source": [
    "ahora si, calcula el log10 de 1000"
   ]
  },
  {
   "cell_type": "code",
   "execution_count": 27,
   "id": "47bf2d24-fcb4-4907-92e7-af142e2afded",
   "metadata": {},
   "outputs": [
    {
     "data": {
      "text/plain": [
       "3.0"
      ]
     },
     "execution_count": 27,
     "metadata": {},
     "output_type": "execute_result"
    }
   ],
   "source": [
    "math.log10(1000)"
   ]
  },
  {
   "cell_type": "markdown",
   "id": "1494d2e2-c5f0-4426-bd28-3ccea38d7b09",
   "metadata": {},
   "source": [
    "## 4.8.- Medidas de tendencia central y Dispersión"
   ]
  },
  {
   "cell_type": "markdown",
   "id": "68b9172a-f029-4f3c-83d1-545ff8937e5a",
   "metadata": {},
   "source": [
    "Importa la librería d eestadistica, y crea una lista de calificaciones aleatorias entre 50 y 100"
   ]
  },
  {
   "cell_type": "code",
   "execution_count": 28,
   "id": "06d77b88-6f25-4ee2-81c9-deb91bde85d4",
   "metadata": {},
   "outputs": [],
   "source": [
    "import statistics as estad"
   ]
  },
  {
   "cell_type": "code",
   "execution_count": 29,
   "id": "55722831-d3af-4942-9a4c-fe1a3aac33b9",
   "metadata": {},
   "outputs": [],
   "source": [
    "calificaciones= [68, 90, 80, 100, 80, 75, 85, 95, 70, 70]   "
   ]
  },
  {
   "cell_type": "code",
   "execution_count": 30,
   "id": "f3a0f859-bc27-47e0-967c-714e6ed4d536",
   "metadata": {},
   "outputs": [],
   "source": [
    "media=estad.mean(calificaciones)\n",
    "mediana=estad.median(calificaciones)\n",
    "moda=estad.mode(calificaciones)"
   ]
  },
  {
   "cell_type": "code",
   "execution_count": 31,
   "id": "35c23b1d-ff38-47e4-aea6-cdafea8eef6c",
   "metadata": {},
   "outputs": [],
   "source": [
    "rango=max(calificaciones)-min(calificaciones)\n",
    "varianza=estad.pvariance(calificaciones)\n",
    "desv_estandar=estad.pstdev(calificaciones)"
   ]
  },
  {
   "cell_type": "code",
   "execution_count": 32,
   "id": "f2bfdcbb-f910-4533-8d78-c86b53f5931d",
   "metadata": {},
   "outputs": [
    {
     "name": "stdout",
     "output_type": "stream",
     "text": [
      "Las medidas de tendencia central son:\n",
      "Media=    81.3\n",
      "Mediana=  80.0\n",
      "Moda=     80\n"
     ]
    }
   ],
   "source": [
    "print('Las medidas de tendencia central son:')\n",
    "print(f'Media= {media:>7}')\n",
    "print(f'Mediana= {mediana:>5}')\n",
    "print(f'Moda= {moda:>6}')"
   ]
  },
  {
   "cell_type": "code",
   "execution_count": 33,
   "id": "de849887-eed1-4d37-a7ad-16d5ff13afbf",
   "metadata": {},
   "outputs": [
    {
     "name": "stdout",
     "output_type": "stream",
     "text": [
      "Las medidas de dispersión son:\n",
      "Rango= 32\n",
      "Varianza= 110.210\n",
      "Desv. Estándar= 10.498\n"
     ]
    }
   ],
   "source": [
    "print('Las medidas de dispersión son:')\n",
    "print(f'Rango= {rango:>2}')\n",
    "print(f'Varianza= {varianza:>0.3f}')\n",
    "print(f'Desv. Estándar= {desv_estandar:>0.3f}')"
   ]
  },
  {
   "cell_type": "markdown",
   "id": "77e5a078-1a94-4fc1-acb0-4ae291e3ea0c",
   "metadata": {},
   "source": [
    "Calcula las medidas de tendencia central"
   ]
  },
  {
   "cell_type": "markdown",
   "id": "d0b2cda1-016b-4f15-8663-586820f6aae0",
   "metadata": {},
   "source": [
    "Calcula las medidas de dispersión"
   ]
  },
  {
   "cell_type": "markdown",
   "id": "e55f2a84-65b1-4e86-b4d4-9be69022fdc2",
   "metadata": {},
   "source": [
    "#### Por tu cuenta\n",
    "\n",
    "Para los numeros del 1 al 20, calcula la varianza y la desviacion estandar - compara con la varianza poblacional y la desviacion estandar poblacional"
   ]
  },
  {
   "cell_type": "code",
   "execution_count": 36,
   "id": "3a3bbe97",
   "metadata": {},
   "outputs": [
    {
     "name": "stdout",
     "output_type": "stream",
     "text": [
      "Las medidas de dispersión son:\n",
      "Varianza= 33.250\n",
      "Desv. Estándar= 5.766\n",
      "Varianza muestral= 35.000\n",
      "Desv. Estándar muestral= 5.916\n"
     ]
    }
   ],
   "source": [
    "import statistics as estad\n",
    "\n",
    "num = [1,2,3,4,5,6,7,8,9,10,11,12,13,14,15,16,17,18,19,20]\n",
    "varianza=estad.pvariance(num)\n",
    "desv_estandar=estad.pstdev(num)\n",
    "varianza_muestral = estad.variance(num)\n",
    "desv_estandar_muestral = estad.stdev(num)\n",
    "\n",
    "print('Las medidas de dispersión son:')\n",
    "print(f'Varianza= {varianza:>0.3f}')\n",
    "print(f'Desv. Estándar= {desv_estandar:>0.3f}')\n",
    "print(f'Varianza muestral= {varianza_muestral:.3f}')\n",
    "print(f'Desv. Estándar muestral= {desv_estandar_muestral:.3f}')"
   ]
  }
 ],
 "metadata": {
  "kernelspec": {
   "display_name": "base",
   "language": "python",
   "name": "python3"
  },
  "language_info": {
   "codemirror_mode": {
    "name": "ipython",
    "version": 3
   },
   "file_extension": ".py",
   "mimetype": "text/x-python",
   "name": "python",
   "nbconvert_exporter": "python",
   "pygments_lexer": "ipython3",
   "version": "3.12.7"
  }
 },
 "nbformat": 4,
 "nbformat_minor": 5
}
