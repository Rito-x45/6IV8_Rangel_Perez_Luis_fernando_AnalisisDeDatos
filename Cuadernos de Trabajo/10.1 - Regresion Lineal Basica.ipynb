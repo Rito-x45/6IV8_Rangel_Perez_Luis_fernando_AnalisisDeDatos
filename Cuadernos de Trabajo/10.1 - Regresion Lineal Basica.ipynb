{
 "cells": [
  {
   "cell_type": "markdown",
   "id": "c9da3374-9b71-4556-878d-9cab29b54a72",
   "metadata": {},
   "source": [
    "# Regresion Líneal sencilla con Stats"
   ]
  },
  {
   "cell_type": "markdown",
   "id": "75d28f35-3c6f-4ee5-8762-c85034db8363",
   "metadata": {},
   "source": [
    "## Relaciones lineales"
   ]
  },
  {
   "cell_type": "markdown",
   "id": "0786c0cc-1241-4e3a-ab75-7d127ada8d83",
   "metadata": {},
   "source": [
    "Armemos una relación entre Celsius y Farenheit"
   ]
  },
  {
   "cell_type": "code",
   "execution_count": 1,
   "id": "a1afcd5c-48be-4dec-8c97-bb32310a9869",
   "metadata": {},
   "outputs": [],
   "source": [
    "def celsius_a_fahrenheit(c):\n",
    "    return c * 9/5 + 32\n"
   ]
  },
  {
   "cell_type": "markdown",
   "id": "6083c930-62bb-44b4-8d9d-59dd5be8b4f9",
   "metadata": {},
   "source": [
    "Armemos una comprensión de lista con esta función para todas las temeperaturas del 0 al 100 de 10 en 10"
   ]
  },
  {
   "cell_type": "code",
   "execution_count": 2,
   "id": "b85eba29-694a-4122-bddf-1e7a2d4a53c6",
   "metadata": {},
   "outputs": [],
   "source": [
    "celsius = list(range(0, 101, 10))\n"
   ]
  },
  {
   "cell_type": "code",
   "execution_count": 3,
   "id": "b8b62623-8863-4d2f-9407-3818ea4d9fb1",
   "metadata": {},
   "outputs": [],
   "source": [
    "fahrenheit = [celsius_a_fahrenheit(c) for c in celsius]"
   ]
  },
  {
   "cell_type": "markdown",
   "id": "ad35002f-86d6-4a26-9d34-41ba691e3693",
   "metadata": {},
   "source": [
    "Importa Pandas"
   ]
  },
  {
   "cell_type": "code",
   "execution_count": 4,
   "id": "fcb47d5b-d662-4a76-a7d9-df695d7bcb6f",
   "metadata": {},
   "outputs": [],
   "source": [
    "import pandas as pd\n"
   ]
  },
  {
   "cell_type": "markdown",
   "id": "0e1679bc-95ca-4753-bf17-c220a52db298",
   "metadata": {},
   "source": [
    "Creamos un DataFrame con las listas"
   ]
  },
  {
   "cell_type": "code",
   "execution_count": 5,
   "id": "43bc217d-9607-4b5f-abe7-89f4b271310e",
   "metadata": {},
   "outputs": [],
   "source": [
    "df = pd.DataFrame({\n",
    "    'Celsius': celsius,\n",
    "    'Fahrenheit': fahrenheit\n",
    "})\n"
   ]
  },
  {
   "cell_type": "code",
   "execution_count": null,
   "id": "0e3c33b5-fd66-41cf-aa8b-f18585598444",
   "metadata": {},
   "outputs": [],
   "source": []
  },
  {
   "cell_type": "markdown",
   "id": "c4321779-3138-465c-9981-d733d9b8268e",
   "metadata": {},
   "source": [
    "Arma una gráfica que muestre esta relación"
   ]
  },
  {
   "cell_type": "code",
   "execution_count": 6,
   "id": "ed875b57-751e-459e-83cd-ad04740890ec",
   "metadata": {},
   "outputs": [
    {
     "data": {
      "image/png": "[encoded data removed]",
      "text/plain": [
       "<Figure size 640x480 with 1 Axes>"
      ]
     },
     "metadata": {},
     "output_type": "display_data"
    }
   ],
   "source": [
    "import matplotlib.pyplot as plt\n",
    "\n",
    "plt.plot(df['Celsius'], df['Fahrenheit'], marker='o')  # línea con puntos\n",
    "plt.xlabel('Celsius')\n",
    "plt.ylabel('Fahrenheit')\n",
    "plt.title('Relación lineal: Celsius vs Fahrenheit')\n",
    "plt.grid(True)\n",
    "plt.show()\n"
   ]
  },
  {
   "cell_type": "markdown",
   "id": "fd7e912b-26d8-4966-b1a0-8309c2a50523",
   "metadata": {},
   "source": [
    "Ponle etiquetas"
   ]
  },
  {
   "cell_type": "markdown",
   "id": "f1342fbf-6039-4d55-b88a-6692b86c9dea",
   "metadata": {},
   "source": [
    "y = mx + b"
   ]
  },
  {
   "cell_type": "markdown",
   "id": "963e5eab-df38-4b17-b09b-24c78ae45bf5",
   "metadata": {},
   "source": [
    "## Regresión lineal con King_county"
   ]
  },
  {
   "cell_type": "markdown",
   "id": "f82ca1bc-aa78-49d6-bcee-ece001d49f56",
   "metadata": {},
   "source": [
    "Carga los datos de King county a un dataframe"
   ]
  },
  {
   "cell_type": "code",
   "execution_count": 7,
   "id": "47819b16-7f65-4615-9331-29d175567a32",
   "metadata": {},
   "outputs": [],
   "source": [
    "import pandas as pd\n",
    "\n",
    "df = pd.read_csv(\"kc_house_data.csv\")"
   ]
  },
  {
   "cell_type": "markdown",
   "id": "bb895cbf-e072-48dd-876b-0e57fe4d65e1",
   "metadata": {},
   "source": [
    "Veamos el Head"
   ]
  },
  {
   "cell_type": "code",
   "execution_count": 8,
   "id": "a76d14e0-4b18-44b9-b692-42403fd2b3dc",
   "metadata": {},
   "outputs": [
    {
     "data": {
      "text/html": [
       "<div>\n",
       "<style scoped>\n",
       "    .dataframe tbody tr th:only-of-type {\n",
       "        vertical-align: middle;\n",
       "    }\n",
       "\n",
       "    .dataframe tbody tr th {\n",
       "        vertical-align: top;\n",
       "    }\n",
       "\n",
       "    .dataframe thead th {\n",
       "        text-align: right;\n",
       "    }\n",
       "</style>\n",
       "<table border=\"1\" class=\"dataframe\">\n",
       "  <thead>\n",
       "    <tr style=\"text-align: right;\">\n",
       "      <th></th>\n",
       "      <th>sqft</th>\n",
       "      <th>price</th>\n",
       "    </tr>\n",
       "  </thead>\n",
       "  <tbody>\n",
       "    <tr>\n",
       "      <th>0</th>\n",
       "      <td>1180</td>\n",
       "      <td>221900.0</td>\n",
       "    </tr>\n",
       "    <tr>\n",
       "      <th>1</th>\n",
       "      <td>2570</td>\n",
       "      <td>538000.0</td>\n",
       "    </tr>\n",
       "    <tr>\n",
       "      <th>2</th>\n",
       "      <td>770</td>\n",
       "      <td>180000.0</td>\n",
       "    </tr>\n",
       "    <tr>\n",
       "      <th>3</th>\n",
       "      <td>1960</td>\n",
       "      <td>604000.0</td>\n",
       "    </tr>\n",
       "    <tr>\n",
       "      <th>4</th>\n",
       "      <td>1680</td>\n",
       "      <td>510000.0</td>\n",
       "    </tr>\n",
       "  </tbody>\n",
       "</table>\n",
       "</div>"
      ],
      "text/plain": [
       "   sqft     price\n",
       "0  1180  221900.0\n",
       "1  2570  538000.0\n",
       "2   770  180000.0\n",
       "3  1960  604000.0\n",
       "4  1680  510000.0"
      ]
     },
     "execution_count": 8,
     "metadata": {},
     "output_type": "execute_result"
    }
   ],
   "source": [
    "df.head()"
   ]
  },
  {
   "cell_type": "markdown",
   "id": "50e4f509-a0d6-4985-8481-5674200f3563",
   "metadata": {},
   "source": [
    "Veamos el Tail"
   ]
  },
  {
   "cell_type": "code",
   "execution_count": 9,
   "id": "74a04255-9164-41ca-a3e4-06d76d0b36a4",
   "metadata": {},
   "outputs": [
    {
     "data": {
      "text/html": [
       "<div>\n",
       "<style scoped>\n",
       "    .dataframe tbody tr th:only-of-type {\n",
       "        vertical-align: middle;\n",
       "    }\n",
       "\n",
       "    .dataframe tbody tr th {\n",
       "        vertical-align: top;\n",
       "    }\n",
       "\n",
       "    .dataframe thead th {\n",
       "        text-align: right;\n",
       "    }\n",
       "</style>\n",
       "<table border=\"1\" class=\"dataframe\">\n",
       "  <thead>\n",
       "    <tr style=\"text-align: right;\">\n",
       "      <th></th>\n",
       "      <th>sqft</th>\n",
       "      <th>price</th>\n",
       "    </tr>\n",
       "  </thead>\n",
       "  <tbody>\n",
       "    <tr>\n",
       "      <th>21608</th>\n",
       "      <td>1530</td>\n",
       "      <td>360000.0</td>\n",
       "    </tr>\n",
       "    <tr>\n",
       "      <th>21609</th>\n",
       "      <td>2310</td>\n",
       "      <td>400000.0</td>\n",
       "    </tr>\n",
       "    <tr>\n",
       "      <th>21610</th>\n",
       "      <td>1020</td>\n",
       "      <td>402101.0</td>\n",
       "    </tr>\n",
       "    <tr>\n",
       "      <th>21611</th>\n",
       "      <td>1600</td>\n",
       "      <td>400000.0</td>\n",
       "    </tr>\n",
       "    <tr>\n",
       "      <th>21612</th>\n",
       "      <td>1020</td>\n",
       "      <td>325000.0</td>\n",
       "    </tr>\n",
       "  </tbody>\n",
       "</table>\n",
       "</div>"
      ],
      "text/plain": [
       "       sqft     price\n",
       "21608  1530  360000.0\n",
       "21609  2310  400000.0\n",
       "21610  1020  402101.0\n",
       "21611  1600  400000.0\n",
       "21612  1020  325000.0"
      ]
     },
     "execution_count": 9,
     "metadata": {},
     "output_type": "execute_result"
    }
   ],
   "source": [
    "df.tail()"
   ]
  },
  {
   "cell_type": "markdown",
   "id": "f57cac93-cc12-4ea1-9072-df076baf0ddc",
   "metadata": {},
   "source": [
    "Vamos cambiando los titulos de columnas"
   ]
  },
  {
   "cell_type": "code",
   "execution_count": 10,
   "id": "3de96060-d9ae-4f7e-aaf5-6dd90db6544a",
   "metadata": {},
   "outputs": [],
   "source": [
    "df.rename(columns={\"price\": \"PrecioVenta\", \"sqft\": \"Areafft\"}, inplace=True)\n"
   ]
  },
  {
   "cell_type": "markdown",
   "id": "7cb81aec-3561-4bfc-8521-05402229b242",
   "metadata": {},
   "source": [
    "Ceca tu nuevo head"
   ]
  },
  {
   "cell_type": "code",
   "execution_count": 11,
   "id": "f6f746ab-b6eb-4eca-bf63-c66b9c19c4ff",
   "metadata": {},
   "outputs": [
    {
     "data": {
      "text/html": [
       "<div>\n",
       "<style scoped>\n",
       "    .dataframe tbody tr th:only-of-type {\n",
       "        vertical-align: middle;\n",
       "    }\n",
       "\n",
       "    .dataframe tbody tr th {\n",
       "        vertical-align: top;\n",
       "    }\n",
       "\n",
       "    .dataframe thead th {\n",
       "        text-align: right;\n",
       "    }\n",
       "</style>\n",
       "<table border=\"1\" class=\"dataframe\">\n",
       "  <thead>\n",
       "    <tr style=\"text-align: right;\">\n",
       "      <th></th>\n",
       "      <th>Areafft</th>\n",
       "      <th>PrecioVenta</th>\n",
       "    </tr>\n",
       "  </thead>\n",
       "  <tbody>\n",
       "    <tr>\n",
       "      <th>0</th>\n",
       "      <td>1180</td>\n",
       "      <td>221900.0</td>\n",
       "    </tr>\n",
       "    <tr>\n",
       "      <th>1</th>\n",
       "      <td>2570</td>\n",
       "      <td>538000.0</td>\n",
       "    </tr>\n",
       "    <tr>\n",
       "      <th>2</th>\n",
       "      <td>770</td>\n",
       "      <td>180000.0</td>\n",
       "    </tr>\n",
       "    <tr>\n",
       "      <th>3</th>\n",
       "      <td>1960</td>\n",
       "      <td>604000.0</td>\n",
       "    </tr>\n",
       "    <tr>\n",
       "      <th>4</th>\n",
       "      <td>1680</td>\n",
       "      <td>510000.0</td>\n",
       "    </tr>\n",
       "  </tbody>\n",
       "</table>\n",
       "</div>"
      ],
      "text/plain": [
       "   Areafft  PrecioVenta\n",
       "0     1180     221900.0\n",
       "1     2570     538000.0\n",
       "2      770     180000.0\n",
       "3     1960     604000.0\n",
       "4     1680     510000.0"
      ]
     },
     "execution_count": 11,
     "metadata": {},
     "output_type": "execute_result"
    }
   ],
   "source": [
    "df.head()"
   ]
  },
  {
   "cell_type": "markdown",
   "id": "f785d99a-12d8-4bec-8e46-efecbcebcb47",
   "metadata": {},
   "source": [
    "Importa stats de scipy"
   ]
  },
  {
   "cell_type": "code",
   "execution_count": 12,
   "id": "67375e80-acc2-4cc8-aa63-eb8d7847a94f",
   "metadata": {},
   "outputs": [],
   "source": [
    "from scipy import stats"
   ]
  },
  {
   "cell_type": "markdown",
   "id": "086469d3-aad9-4065-b51c-642cbfe30812",
   "metadata": {},
   "source": [
    "Arma un modelo de regresión lineal"
   ]
  },
  {
   "cell_type": "code",
   "execution_count": 13,
   "id": "15df757b-6d8d-40fd-b4d9-b9ee0733be24",
   "metadata": {},
   "outputs": [],
   "source": [
    "pendiente, intercepcion, r, p, std_err = stats.linregress(df['Areafft'], df['PrecioVenta'])"
   ]
  },
  {
   "cell_type": "markdown",
   "id": "9d4a678c-9a42-470a-9943-4b95945aac0a",
   "metadata": {},
   "source": [
    "Chea la pendiente"
   ]
  },
  {
   "cell_type": "code",
   "execution_count": 14,
   "id": "038b036c-16bc-4570-b0d0-d07722cb95e7",
   "metadata": {},
   "outputs": [
    {
     "name": "stdout",
     "output_type": "stream",
     "text": [
      "Pendiente (m): 280.8066899295009\n"
     ]
    }
   ],
   "source": [
    "print(f\"Pendiente (m): {pendiente}\")"
   ]
  },
  {
   "cell_type": "code",
   "execution_count": null,
   "id": "8aafe9f1-12e8-4c47-ab77-2c06e96ee18b",
   "metadata": {},
   "outputs": [],
   "source": []
  },
  {
   "cell_type": "markdown",
   "id": "7395ac42-8c15-491a-a6c5-790453f614e1",
   "metadata": {},
   "source": [
    "Checa la intercepción"
   ]
  },
  {
   "cell_type": "code",
   "execution_count": 15,
   "id": "055892b8-41c4-419f-8bb8-ee2af252867e",
   "metadata": {},
   "outputs": [
    {
     "name": "stdout",
     "output_type": "stream",
     "text": [
      "Intersección (b): -43867.60153385613\n"
     ]
    }
   ],
   "source": [
    "print(f\"Intersección (b): {intercepcion}\")"
   ]
  },
  {
   "cell_type": "code",
   "execution_count": 16,
   "id": "f9acc3c3",
   "metadata": {},
   "outputs": [
    {
     "name": "stdout",
     "output_type": "stream",
     "text": [
      "Fórmula generada: PrecioVenta = 280.81 * Areafft + -43867.60\n"
     ]
    }
   ],
   "source": [
    "print(f\"Fórmula generada: PrecioVenta = {pendiente:.2f} * Areafft + {intercepcion:.2f}\")"
   ]
  },
  {
   "cell_type": "markdown",
   "id": "8c4ed298-2c42-4f29-a859-48894c7c437b",
   "metadata": {},
   "source": [
    "PrecioVenta = 280.80*Areaft - 43,867.60"
   ]
  },
  {
   "cell_type": "markdown",
   "id": "b98323d6-14b9-4efa-9a84-c9928f081498",
   "metadata": {},
   "source": [
    "Vamos a predecir el precio de alguna casa"
   ]
  },
  {
   "cell_type": "code",
   "execution_count": 17,
   "id": "005c777d-4629-4b21-964a-16c570036089",
   "metadata": {},
   "outputs": [
    {
     "name": "stdout",
     "output_type": "stream",
     "text": [
      "658149.1232898962\n"
     ]
    }
   ],
   "source": [
    "def predecir_precio(area):\n",
    "    return pendiente * area + intercepcion\n",
    "\n",
    "print(predecir_precio(2500))\n"
   ]
  },
  {
   "cell_type": "code",
   "execution_count": 18,
   "id": "86938310",
   "metadata": {},
   "outputs": [
    {
     "data": {
      "text/html": [
       "<div>\n",
       "<style scoped>\n",
       "    .dataframe tbody tr th:only-of-type {\n",
       "        vertical-align: middle;\n",
       "    }\n",
       "\n",
       "    .dataframe tbody tr th {\n",
       "        vertical-align: top;\n",
       "    }\n",
       "\n",
       "    .dataframe thead th {\n",
       "        text-align: right;\n",
       "    }\n",
       "</style>\n",
       "<table border=\"1\" class=\"dataframe\">\n",
       "  <thead>\n",
       "    <tr style=\"text-align: right;\">\n",
       "      <th></th>\n",
       "      <th>Areafft</th>\n",
       "      <th>PrecioVenta</th>\n",
       "    </tr>\n",
       "  </thead>\n",
       "  <tbody>\n",
       "    <tr>\n",
       "      <th>286</th>\n",
       "      <td>2500</td>\n",
       "      <td>467000.0</td>\n",
       "    </tr>\n",
       "    <tr>\n",
       "      <th>342</th>\n",
       "      <td>2500</td>\n",
       "      <td>425000.0</td>\n",
       "    </tr>\n",
       "    <tr>\n",
       "      <th>349</th>\n",
       "      <td>2500</td>\n",
       "      <td>387000.0</td>\n",
       "    </tr>\n",
       "    <tr>\n",
       "      <th>529</th>\n",
       "      <td>2500</td>\n",
       "      <td>662000.0</td>\n",
       "    </tr>\n",
       "    <tr>\n",
       "      <th>911</th>\n",
       "      <td>2500</td>\n",
       "      <td>615000.0</td>\n",
       "    </tr>\n",
       "    <tr>\n",
       "      <th>...</th>\n",
       "      <td>...</td>\n",
       "      <td>...</td>\n",
       "    </tr>\n",
       "    <tr>\n",
       "      <th>19944</th>\n",
       "      <td>2500</td>\n",
       "      <td>650000.0</td>\n",
       "    </tr>\n",
       "    <tr>\n",
       "      <th>20208</th>\n",
       "      <td>2500</td>\n",
       "      <td>475000.0</td>\n",
       "    </tr>\n",
       "    <tr>\n",
       "      <th>20366</th>\n",
       "      <td>2500</td>\n",
       "      <td>635000.0</td>\n",
       "    </tr>\n",
       "    <tr>\n",
       "      <th>21048</th>\n",
       "      <td>2500</td>\n",
       "      <td>575000.0</td>\n",
       "    </tr>\n",
       "    <tr>\n",
       "      <th>21594</th>\n",
       "      <td>2500</td>\n",
       "      <td>350000.0</td>\n",
       "    </tr>\n",
       "  </tbody>\n",
       "</table>\n",
       "<p>90 rows × 2 columns</p>\n",
       "</div>"
      ],
      "text/plain": [
       "       Areafft  PrecioVenta\n",
       "286       2500     467000.0\n",
       "342       2500     425000.0\n",
       "349       2500     387000.0\n",
       "529       2500     662000.0\n",
       "911       2500     615000.0\n",
       "...        ...          ...\n",
       "19944     2500     650000.0\n",
       "20208     2500     475000.0\n",
       "20366     2500     635000.0\n",
       "21048     2500     575000.0\n",
       "21594     2500     350000.0\n",
       "\n",
       "[90 rows x 2 columns]"
      ]
     },
     "execution_count": 18,
     "metadata": {},
     "output_type": "execute_result"
    }
   ],
   "source": [
    "df[df['Areafft'] == 2500]\n"
   ]
  },
  {
   "cell_type": "markdown",
   "id": "c5c0b381-01e7-4379-a010-af05df0f8b90",
   "metadata": {},
   "source": [
    "Compara con la realidad"
   ]
  },
  {
   "cell_type": "markdown",
   "id": "98441dc1-4513-4588-bf1f-385414ca7d84",
   "metadata": {},
   "source": [
    "### Hacer la gráfica"
   ]
  },
  {
   "cell_type": "markdown",
   "id": "16c12841-88f2-4d6c-9323-eb6edc74d123",
   "metadata": {},
   "source": [
    "Importa Seaborn"
   ]
  },
  {
   "cell_type": "code",
   "execution_count": 19,
   "id": "dc24847c-c558-4f59-aa6f-f7658e6fe975",
   "metadata": {},
   "outputs": [],
   "source": [
    "import seaborn as sns\n",
    "import matplotlib.pyplot as plt\n",
    "\n"
   ]
  },
  {
   "cell_type": "markdown",
   "id": "aa689e3b-0791-4f50-bf2e-fede90d4dde1",
   "metadata": {},
   "source": [
    "Pon el estilo como Whitegrid"
   ]
  },
  {
   "cell_type": "code",
   "execution_count": 20,
   "id": "a4c1bb1b-61b1-4a83-b7ee-e0302b04c047",
   "metadata": {},
   "outputs": [],
   "source": [
    "sns.set_style(\"whitegrid\")  # estilo visual"
   ]
  },
  {
   "cell_type": "markdown",
   "id": "7d99e5fc-1740-4870-827d-bbc2a41afc28",
   "metadata": {},
   "source": [
    "Arma una regplot de sns"
   ]
  },
  {
   "cell_type": "code",
   "execution_count": 21,
   "id": "810a2b21-1f83-4d0b-a03e-70971f522ef5",
   "metadata": {},
   "outputs": [
    {
     "data": {
      "image/png": "[encoded data removed]",
      "text/plain": [
       "<Figure size 640x480 with 1 Axes>"
      ]
     },
     "metadata": {},
     "output_type": "display_data"
    }
   ],
   "source": [
    "sns.regplot(x='Areafft', y='PrecioVenta', data=df, line_kws={\"color\": \"red\"})\n",
    "\n",
    "plt.title(\"Relación entre Área (ft²) y Precio de Venta\")\n",
    "plt.xlabel(\"Área en ft²\")\n",
    "plt.ylabel(\"Precio de Venta\")\n",
    "plt.show()"
   ]
  }
 ],
 "metadata": {
  "kernelspec": {
   "display_name": "Python 3",
   "language": "python",
   "name": "python3"
  },
  "language_info": {
   "codemirror_mode": {
    "name": "ipython",
    "version": 3
   },
   "file_extension": ".py",
   "mimetype": "text/x-python",
   "name": "python",
   "nbconvert_exporter": "python",
   "pygments_lexer": "ipython3",
   "version": "3.13.5"
  }
 },
 "nbformat": 4,
 "nbformat_minor": 5
}
